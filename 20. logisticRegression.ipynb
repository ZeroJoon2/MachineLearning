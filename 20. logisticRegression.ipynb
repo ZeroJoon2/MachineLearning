{
 "cells": [
  {
   "cell_type": "markdown",
   "metadata": {},
   "source": [
    "### 라이브러리 불러오기"
   ]
  },
  {
   "cell_type": "code",
   "execution_count": 30,
   "metadata": {},
   "outputs": [],
   "source": [
    "import xgboost as xgb\n",
    "from sklearn.datasets import load_breast_cancer\n",
    "from sklearn.model_selection import train_test_split, GridSearchCV\n",
    "from sklearn.linear_model import LogisticRegression\n",
    "from sklearn.metrics import roc_auc_score, accuracy_score\n",
    "from sklearn.preprocessing import StandardScaler\n",
    "\n",
    "import pandas as pd\n",
    "import matplotlib.pyplot as plt\n",
    "%matplotlib inline\n",
    "\n",
    "\n",
    "import warnings\n",
    "warnings.filterwarnings('ignore')\n",
    "dataset = load_breast_cancer()"
   ]
  },
  {
   "cell_type": "code",
   "execution_count": 11,
   "metadata": {},
   "outputs": [],
   "source": [
    "scaler = StandardScaler()\n",
    "dataset_scaled = scaler.fit_transform(dataset.data)\n",
    "\n",
    "X_train, X_test, y_train, y_test = \\\n",
    "train_test_split(dataset_scaled\n",
    "                 , dataset.target\n",
    "                 , test_size=0.3\n",
    "                 , random_state=0)"
   ]
  },
  {
   "cell_type": "code",
   "execution_count": 19,
   "metadata": {},
   "outputs": [
    {
     "name": "stdout",
     "output_type": "stream",
     "text": [
      "\n",
      "▶ accuracy\n",
      "0.9766\n",
      "\n",
      "▶ roc_auc\n",
      "0.9716 \n",
      "\n"
     ]
    }
   ],
   "source": [
    "lr_clf = LogisticRegression()\n",
    "lr_clf.fit(X_train, y_train)\n",
    "lr_pred = lr_clf.predict(X_test)\n",
    "lr_pred_proba = lr_clf.predict_proba(X_test)[:, 1]\n",
    "\n",
    "print(f'''\n",
    "▶ accuracy\n",
    "{accuracy_score(y_test, lr_pred):.4f}\n",
    "\n",
    "▶ roc_auc\n",
    "{roc_auc_score(y_test, lr_pred):.4f} \n",
    "''')\n"
   ]
  },
  {
   "cell_type": "code",
   "execution_count": 29,
   "metadata": {},
   "outputs": [
    {
     "name": "stdout",
     "output_type": "stream",
     "text": [
      "\n",
      "▶ solver : lbfgs          \n",
      "    ▶ accuracy_pred\n",
      "        0.9766\n",
      "\n",
      "    ▶ roc_auc_pred\n",
      "        0.9716\n",
      "\n",
      "    ▶ roc_auc_pred_proba\n",
      "        0.9947\n",
      "\n",
      "\n",
      "\n",
      "▶ solver : liblinear          \n",
      "    ▶ accuracy_pred\n",
      "        0.9825\n",
      "\n",
      "    ▶ roc_auc_pred\n",
      "        0.9795\n",
      "\n",
      "    ▶ roc_auc_pred_proba\n",
      "        0.9947\n",
      "\n",
      "\n",
      "\n",
      "▶ solver : newton-cg          \n",
      "    ▶ accuracy_pred\n",
      "        0.9766\n",
      "\n",
      "    ▶ roc_auc_pred\n",
      "        0.9716\n",
      "\n",
      "    ▶ roc_auc_pred_proba\n",
      "        0.9947\n",
      "\n",
      "\n",
      "\n",
      "▶ solver : sag          \n",
      "    ▶ accuracy_pred\n",
      "        0.9825\n",
      "\n",
      "    ▶ roc_auc_pred\n",
      "        0.9795\n",
      "\n",
      "    ▶ roc_auc_pred_proba\n",
      "        0.9947\n",
      "\n",
      "\n",
      "\n",
      "▶ solver : saga          \n",
      "    ▶ accuracy_pred\n",
      "        0.9825\n",
      "\n",
      "    ▶ roc_auc_pred\n",
      "        0.9795\n",
      "\n",
      "    ▶ roc_auc_pred_proba\n",
      "        0.9947\n",
      "\n",
      "\n"
     ]
    }
   ],
   "source": [
    "solvers = ['lbfgs', 'liblinear', 'newton-cg', 'sag', 'saga']\n",
    "\n",
    "for solver in solvers:\n",
    "    lr_clf = LogisticRegression(solver = solver, max_iter = 600)\n",
    "    lr_clf.fit(X_train, y_train)\n",
    "    lr_preds = lr_clf.predict(X_test)\n",
    "    lr_preds_proba = lr_clf.predict_log_proba(X_test)[:, 1]\n",
    "\n",
    "    # accuracy와 roc-auc 측정\n",
    "    print(\n",
    "f'''\n",
    "▶ solver : {solver}          \n",
    "    ▶ accuracy_pred\n",
    "        {accuracy_score(y_test, lr_preds):.4f}\n",
    "\n",
    "    ▶ roc_auc_pred\n",
    "        {roc_auc_score(y_test, lr_preds):.4f}\n",
    "\n",
    "    ▶ roc_auc_pred_proba\n",
    "        {roc_auc_score(y_test, lr_preds_proba):.4f}\n",
    "\n",
    "'''\n",
    ")\n",
    "\n"
   ]
  },
  {
   "cell_type": "code",
   "execution_count": 58,
   "metadata": {},
   "outputs": [
    {
     "name": "stdout",
     "output_type": "stream",
     "text": [
      "\n",
      "best_params : {'C': 0.1, 'penalty': 'l2', 'solver': 'liblinear'}\n",
      "best_score : 0.9789\n",
      "\n"
     ]
    }
   ],
   "source": [
    "# c = alpha의 역수 (작은수록 규제가 크다)\n",
    "# liblinear, saga : l1, l2 가능\n",
    "# lbfgs, newton-cg, sag : l2만 가능\n",
    "params = [{\n",
    "            'solver' : ['liblinear']\n",
    "            , 'penalty' : ['l2', 'l1']\n",
    "            , 'C' : [0.01, 0.1, 1, 5, 10, 100]\n",
    "            }\n",
    "        , {\n",
    "            'solver' : ['lbfgs', 'newton-cg']\n",
    "            , 'penalty' : ['l2']\n",
    "            , 'C' : [0.1, 1, 5 ,10, 100]\n",
    "        }]\n",
    "\n",
    "lr_clf = LogisticRegression()\n",
    "\n",
    "grid_clf = GridSearchCV(lr_clf\n",
    "                        , param_grid = params\n",
    "                        , scoring = 'accuracy'\n",
    "                        , cv = 3)\n",
    "\n",
    "grid_clf.fit(dataset_scaled, dataset.target)\n",
    "print(\n",
    "f'''\n",
    "best_params : {grid_clf.best_params_}\n",
    "best_score : {grid_clf.best_score_:.4f}\n",
    "'''\n",
    ")"
   ]
  },
  {
   "cell_type": "code",
   "execution_count": 59,
   "metadata": {},
   "outputs": [
    {
     "name": "stdout",
     "output_type": "stream",
     "text": [
      "\n",
      "accuracy : 0.9766\n",
      "roc-auc : 0.9716\n",
      "roc-auc_proba : 0.9947\n",
      "      \n"
     ]
    }
   ],
   "source": [
    "best_param = grid_clf.best_params_\n",
    "\n",
    "best_lr_clf = LogisticRegression(**best_param)\n",
    "best_lr_clf.fit(X_train, y_train)\n",
    "\n",
    "lr_preds = best_lr_clf.predict(X_test)\n",
    "lr_preds_proba = best_lr_clf.predict_log_proba(X_test)[:, 1]\n",
    "\n",
    "print(f'''\n",
    "accuracy : {accuracy_score(y_test, lr_pred):.4f}\n",
    "roc-auc : {roc_auc_score(y_test, lr_pred):.4f}\n",
    "roc-auc_proba : {roc_auc_score(y_test, lr_pred_proba):.4f}\n",
    "      ''')\n"
   ]
  }
 ],
 "metadata": {
  "kernelspec": {
   "display_name": "Python (ml_env)",
   "language": "python",
   "name": "ml_env"
  },
  "language_info": {
   "codemirror_mode": {
    "name": "ipython",
    "version": 3
   },
   "file_extension": ".py",
   "mimetype": "text/x-python",
   "name": "python",
   "nbconvert_exporter": "python",
   "pygments_lexer": "ipython3",
   "version": "3.9.21"
  }
 },
 "nbformat": 4,
 "nbformat_minor": 2
}

{
 "cells": [
  {
   "cell_type": "markdown",
   "metadata": {},
   "source": [
    "### p.355"
   ]
  },
  {
   "cell_type": "code",
   "execution_count": 6,
   "metadata": {},
   "outputs": [],
   "source": [
    "from sklearn.datasets import load_boston\n",
    "from sklearn.model_selection import cross_val_score\n",
    "from sklearn.ensemble import RandomForestRegressor\n",
    "\n",
    "import pandas as pd\n",
    "import numpy as np\n",
    "import warnings\n",
    "warnings.filterwarnings('ignore')\n",
    "\n",
    "# 보스턴 데이터 세트 로드\n",
    "boston = load_boston()\n",
    "bostonDF = pd.DataFrame(boston.data\n",
    "                        , columns = boston.feature_names\n",
    "                        )\n",
    "\n"
   ]
  },
  {
   "cell_type": "code",
   "execution_count": 14,
   "metadata": {},
   "outputs": [
    {
     "name": "stdout",
     "output_type": "stream",
     "text": [
      "\n",
      "Negative_MSE_Scores : [ -7.88 -13.14 -20.57 -46.23 -18.88]\n",
      "RMSE Scores : [2.81 3.63 4.54 6.8  4.34]\n",
      "avg_rmse : 4.4225\n",
      "\n"
     ]
    }
   ],
   "source": [
    "bostonDF['PRICE'] = boston.target\n",
    "\n",
    "y_target = bostonDF['PRICE']\n",
    "X_data = bostonDF.drop(['PRICE'], axis = 1, inplace = False)\n",
    "\n",
    "rf_R = RandomForestRegressor(random_state = 0\n",
    "                           , n_estimators = 1000)\n",
    "\n",
    "neg_mse_scores = cross_val_score(rf_R\n",
    "                                , X_data\n",
    "                                , y_target\n",
    "                                , scoring = 'neg_mean_squared_error'\n",
    "                                , cv = 5\n",
    "                                )\n",
    "\n",
    "rmse_scores = np.sqrt(-1 * neg_mse_scores)\n",
    "avg_rmse = np.mean(rmse_scores)\n",
    "\n",
    "print(\n",
    "f'''\n",
    "Negative_MSE_Scores : {np.round(neg_mse_scores, 2)}\n",
    "RMSE Scores : {np.round(rmse_scores, 2)}\n",
    "avg_rmse : {avg_rmse:.4f}\n",
    "''')"
   ]
  },
  {
   "cell_type": "code",
   "execution_count": 17,
   "metadata": {},
   "outputs": [],
   "source": [
    "def get_model_cv_prediction(model, X_data, y_target):\n",
    "    neg_mse_scores = cross_val_score(model\n",
    "                                     , X_data\n",
    "                                     , y_target\n",
    "                                     , scoring = 'neg_mean_squared_error'\n",
    "                                     , cv = 5\n",
    "                                     )\n",
    "    rmse_scores = np.sqrt(-1 * neg_mse_scores)\n",
    "    avg_rmse = np.mean(rmse_scores)\n",
    "    print(\n",
    "    f'''\n",
    "    {model.__class__.__name__}\n",
    "    ▶ 교차 검증의 평균\n",
    "    {avg_rmse:.4f}\n",
    "    ''')"
   ]
  },
  {
   "cell_type": "code",
   "execution_count": 18,
   "metadata": {},
   "outputs": [
    {
     "name": "stdout",
     "output_type": "stream",
     "text": [
      "\n",
      "    DecisionTreeRegressor\n",
      "    ▶ 교차 검증의 평균\n",
      "    5.9780\n",
      "    \n",
      "\n",
      "    RandomForestRegressor\n",
      "    ▶ 교차 검증의 평균\n",
      "    4.4225\n",
      "    \n",
      "\n",
      "    GradientBoostingRegressor\n",
      "    ▶ 교차 검증의 평균\n",
      "    4.2690\n",
      "    \n",
      "\n",
      "    XGBRegressor\n",
      "    ▶ 교차 검증의 평균\n",
      "    4.2511\n",
      "    \n",
      "\n",
      "    LGBMRegressor\n",
      "    ▶ 교차 검증의 평균\n",
      "    4.6464\n",
      "    \n"
     ]
    }
   ],
   "source": [
    "from sklearn.tree import DecisionTreeRegressor\n",
    "from sklearn.ensemble import GradientBoostingRegressor\n",
    "from xgboost import XGBRegressor\n",
    "from lightgbm import LGBMRegressor\n",
    "\n",
    "dt_reg = DecisionTreeRegressor(random_state = 0\n",
    "                               , max_depth = 4)\n",
    "rf_reg = RandomForestRegressor(random_state = 0\n",
    "                               , n_estimators=1000\n",
    "                               )\n",
    "\n",
    "gb_reg = GradientBoostingRegressor(random_state= 0\n",
    "                               , n_estimators = 1000\n",
    "                               )\n",
    "\n",
    "xgb_reg = XGBRegressor(n_estimators = 1000)\n",
    "lgb_reg = LGBMRegressor(n_estimators = 1000)\n",
    "\n",
    "# 트리 기반의 회귀 모델을 반복하면서 평가 수행\n",
    "models = [dt_reg, rf_reg, gb_reg, xgb_reg, lgb_reg]\n",
    "for model in models :\n",
    "    get_model_cv_prediction(model\n",
    "                            , X_data\n",
    "                            , y_target)"
   ]
  },
  {
   "cell_type": "code",
   "execution_count": 32,
   "metadata": {},
   "outputs": [
    {
     "data": {
      "text/plain": [
       "<AxesSubplot:xlabel='None', ylabel='None'>"
      ]
     },
     "execution_count": 32,
     "metadata": {},
     "output_type": "execute_result"
    },
    {
     "data": {
      "image/png": "[encoded data removed]",
      "text/plain": [
       "<Figure size 640x480 with 1 Axes>"
      ]
     },
     "metadata": {},
     "output_type": "display_data"
    }
   ],
   "source": [
    "import seaborn as sns\n",
    "import matplotlib.pyplot as plt\n",
    "%matplotlib inline\n",
    "\n",
    "rf_reg = RandomForestRegressor(n_estimators = 1000)\n",
    "rf_reg.fit(X_data, y_target)\n",
    "\n",
    "feature_series = pd.Series(data = rf_reg.feature_importances_\n",
    "                           , index = X_data.columns\n",
    "                           )\n",
    "\n",
    "feature_series = feature_series.sort_values(ascending=False)\n",
    "sns.barplot(x=feature_series, y = feature_series.index)"
   ]
  },
  {
   "cell_type": "code",
   "execution_count": 33,
   "metadata": {},
   "outputs": [
    {
     "data": {
      "text/plain": [
       "<matplotlib.collections.PathCollection at 0x258f3cd5520>"
      ]
     },
     "execution_count": 33,
     "metadata": {},
     "output_type": "execute_result"
    },
    {
     "data": {
      "image/png": "[encoded data removed]",
      "text/plain": [
       "<Figure size 640x480 with 1 Axes>"
      ]
     },
     "metadata": {},
     "output_type": "display_data"
    }
   ],
   "source": [
    "bostonDF_sample = bostonDF[['RM', 'PRICE']]\n",
    "bostonDF_sample = bostonDF_sample.sample(n = 100\n",
    "                                        , random_state = 0)\n",
    "\n",
    "bostonDF_sample.shape\n",
    "plt.figure()\n",
    "plt.scatter(bostonDF_sample['RM']\n",
    "            , bostonDF_sample['PRICE']\n",
    "            , c = 'darkorange')"
   ]
  }
 ],
 "metadata": {
  "kernelspec": {
   "display_name": "Python (ml_env)",
   "language": "python",
   "name": "ml_env"
  },
  "language_info": {
   "codemirror_mode": {
    "name": "ipython",
    "version": 3
   },
   "file_extension": ".py",
   "mimetype": "text/x-python",
   "name": "python",
   "nbconvert_exporter": "python",
   "pygments_lexer": "ipython3",
   "version": "3.9.21"
  }
 },
 "nbformat": 4,
 "nbformat_minor": 2
}

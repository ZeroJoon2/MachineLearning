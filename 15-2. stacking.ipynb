{
 "cells": [
  {
   "cell_type": "markdown",
   "metadata": {
    "vscode": {
     "languageId": "plaintext"
    }
   },
   "source": [
    "# 스태킹 연습"
   ]
  },
  {
   "cell_type": "markdown",
   "metadata": {},
   "source": [
    "### 라이브러리 불러오기"
   ]
  },
  {
   "cell_type": "code",
   "execution_count": 41,
   "metadata": {},
   "outputs": [],
   "source": [
    "import numpy as np\n",
    "\n",
    "from sklearn.neighbors import KNeighborsClassifier\n",
    "from sklearn.ensemble import RandomForestClassifier\n",
    "from sklearn.ensemble import AdaBoostClassifier\n",
    "\n",
    "from sklearn.tree import DecisionTreeClassifier\n",
    "from sklearn.linear_model import LogisticRegression\n",
    "\n",
    "from sklearn.datasets import load_breast_cancer\n",
    "\n",
    "from sklearn.model_selection import train_test_split\n",
    "from sklearn.model_selection import KFold\n",
    "\n",
    "from sklearn.metrics import accuracy_score\n",
    "from sklearn.metrics import mean_absolute_error\n",
    "\n",
    "import warnings"
   ]
  },
  {
   "cell_type": "markdown",
   "metadata": {},
   "source": [
    "### 데이터 및 환경 세팅"
   ]
  },
  {
   "cell_type": "code",
   "execution_count": 18,
   "metadata": {},
   "outputs": [],
   "source": [
    "warnings.filterwarnings('ignore')\n",
    "\n",
    "cancer_data = load_breast_cancer()\n",
    "\n",
    "X_feature = cancer_data.data\n",
    "y_label = cancer_data.target"
   ]
  },
  {
   "cell_type": "code",
   "execution_count": 7,
   "metadata": {},
   "outputs": [],
   "source": [
    "X_train, X_test, y_train, y_test = train_test_split(X_feature\n",
    "                                                    , y_label\n",
    "                                                    , test_size = 0.2\n",
    "                                                    , random_state = 0\n",
    "                                                    )"
   ]
  },
  {
   "cell_type": "markdown",
   "metadata": {},
   "source": [
    "### 모델 학습"
   ]
  },
  {
   "cell_type": "code",
   "execution_count": 9,
   "metadata": {},
   "outputs": [],
   "source": [
    "### 모델 생성\n",
    "knn_clf = KNeighborsClassifier(n_neighbors=4)\n",
    "rf_clf = RandomForestClassifier(n_estimators=100, random_state=0)\n",
    "dt_clf = DecisionTreeClassifier()\n",
    "ada_clf = AdaBoostClassifier(n_estimators = 100)\n",
    "\n",
    "### 스태킹으로 학습된 데이터를 최종적으로 학습할 모델\n",
    "lr_final = LogisticRegression()"
   ]
  },
  {
   "cell_type": "code",
   "execution_count": null,
   "metadata": {},
   "outputs": [
    {
     "data": {
      "text/plain": [
       "AdaBoostClassifier(n_estimators=100)"
      ]
     },
     "execution_count": 13,
     "metadata": {},
     "output_type": "execute_result"
    }
   ],
   "source": [
    "### 모델 학습\n",
    "knn_clf.fit(X_train, y_train)\n",
    "rf_clf.fit(X_train, y_train)\n",
    "dt_clf.fit(X_train, y_train)\n",
    "ada_clf.fit(X_train, y_train)"
   ]
  },
  {
   "cell_type": "code",
   "execution_count": 19,
   "metadata": {},
   "outputs": [
    {
     "name": "stdout",
     "output_type": "stream",
     "text": [
      "KNeighbors 정확도 0.9211\n",
      "RandomForest 정확도 0.9649\n",
      "의사결정트리 정확도 0.9035\n",
      "AdaBoost 정확도 0.9561\n"
     ]
    }
   ],
   "source": [
    "### 정확도 측정\n",
    "knn_pred = knn_clf.predict(X_test)\n",
    "rf_pred = rf_clf.predict(X_test)\n",
    "dt_pred = dt_clf.predict(X_test)\n",
    "ada_pred = ada_clf.predict(X_test)\n",
    "\n",
    "print(f'KNeighbors 정확도 {accuracy_score(y_test, knn_pred):.4f}')\n",
    "print(f'RandomForest 정확도 {accuracy_score(y_test, rf_pred):.4f}')\n",
    "print(f'의사결정트리 정확도 {accuracy_score(y_test, dt_pred):.4f}')\n",
    "print(f'AdaBoost 정확도 {accuracy_score(y_test, ada_pred):.4f}')"
   ]
  },
  {
   "cell_type": "markdown",
   "metadata": {},
   "source": [
    "### 스태킹"
   ]
  },
  {
   "cell_type": "code",
   "execution_count": 22,
   "metadata": {},
   "outputs": [
    {
     "name": "stdout",
     "output_type": "stream",
     "text": [
      "(4, 114)\n"
     ]
    }
   ],
   "source": [
    "### 예측값을 붙혀서 피처값을 새로 만듦\n",
    "pred = np.array([knn_pred, rf_pred, dt_pred, ada_pred])\n",
    "print(pred.shape)"
   ]
  },
  {
   "cell_type": "code",
   "execution_count": 38,
   "metadata": {},
   "outputs": [],
   "source": [
    "### Transpose를 통해, 행/열 위치 교환, 컬럼 레벨로 각 알고리즘의 예측 결과를 피처로 만듦\n",
    "T_pred = np.transpose(pred)\n",
    "lr_final.fit(T_pred, y_test)\n",
    "\n",
    "final_pred = lr_final.predict(T_pred)"
   ]
  },
  {
   "cell_type": "code",
   "execution_count": 40,
   "metadata": {},
   "outputs": [
    {
     "name": "stdout",
     "output_type": "stream",
     "text": [
      "스태킹 이후 최종 모델의 정확도 : 0.9737\n"
     ]
    }
   ],
   "source": [
    "### 결과\n",
    "print(f'스태킹 이후 최종 모델의 정확도 : {accuracy_score(y_test, final_pred):.4f}')"
   ]
  },
  {
   "cell_type": "markdown",
   "metadata": {},
   "source": [
    "### CV세트를 기반의 스태킹"
   ]
  },
  {
   "cell_type": "code",
   "execution_count": 56,
   "metadata": {},
   "outputs": [],
   "source": [
    "### 개별 기반 모델에서 최종 메타 모델이 사용할 학습 및 테스트용 데이터를 생성하기 위한 함수\n",
    "def get_stacking_base_datasets(model, X_train_n, y_train_n, X_test_n, n_folds):\n",
    "    # 지정된 n_folds값으로 KFold 생성\n",
    "    kf = KFold(n_splits = n_folds, shuffle = False)\n",
    "\n",
    "    # 추후에 메타 모델이 사용할 학습 데이터 반환을 위한 넘파이 배열 초기화\n",
    "    train_fold_pred = np.zeros((X_train_n.shape[0], 1))\n",
    "    test_pred = np.zeros((X_test_n.shape[0], n_folds))\n",
    "    print(f'{model.__class__.__name__} 모델 시작')\n",
    "\n",
    "    for num, (i, j) in enumerate(kf.split(X_train_n)):\n",
    "        # 입력된 학습 데이터 기반 모델이 학습/예측할 폴드 데이터 세트 추출\n",
    "        print(f'\\t 폴드 세트, {num}, 시작')\n",
    "        X_tr = X_train_n[i]\n",
    "        y_tr = y_train_n[i]\n",
    "        X_te = X_train_n[j]\n",
    "\n",
    "        # 폴드 세트 내부에서 다시 만들어진 학습 데이터로 기반 모델의 학습 수행\n",
    "        model.fit(X_tr, y_tr)\n",
    "\n",
    "        # 폴드 세트 내뷍서 다시 만들어진 검증 데이터로 기반 모델 예측 후 데이터 저장\n",
    "        train_fold_pred[j, :] = model.predict(X_te).reshape(-1,1)\n",
    "\n",
    "        # 입력된 원본 테스트 데이터를 폴드 세트나 학습된 기반 모델에서 예측 후 데이터 저장\n",
    "        test_pred[:, num] = model.predict(X_test_n)\n",
    "\n",
    "    # 폴드 세트 내에서 원본 테스트 데이터를 예측한 데이터를 평균하여 테스트 데이터로 생성\n",
    "    test_pred_mean = np.mean(test_pred, axis = 1).reshape(-1, 1)\n",
    "\n",
    "    # train_fold_pred는 최종 메타 모델이 사용하는 학습 데이터, test_pred_mean은 테스트 데이터\n",
    "    return train_fold_pred, test_pred_mean"
   ]
  },
  {
   "cell_type": "code",
   "execution_count": 57,
   "metadata": {},
   "outputs": [
    {
     "name": "stdout",
     "output_type": "stream",
     "text": [
      "KNeighborsClassifier 모델 시작\n",
      "\t 폴드 세트, 0, 시작\n",
      "\t 폴드 세트, 1, 시작\n",
      "\t 폴드 세트, 2, 시작\n",
      "\t 폴드 세트, 3, 시작\n",
      "\t 폴드 세트, 4, 시작\n",
      "\t 폴드 세트, 5, 시작\n",
      "\t 폴드 세트, 6, 시작\n",
      "RandomForestClassifier 모델 시작\n",
      "\t 폴드 세트, 0, 시작\n",
      "\t 폴드 세트, 1, 시작\n",
      "\t 폴드 세트, 2, 시작\n",
      "\t 폴드 세트, 3, 시작\n",
      "\t 폴드 세트, 4, 시작\n",
      "\t 폴드 세트, 5, 시작\n",
      "\t 폴드 세트, 6, 시작\n",
      "DecisionTreeClassifier 모델 시작\n",
      "\t 폴드 세트, 0, 시작\n",
      "\t 폴드 세트, 1, 시작\n",
      "\t 폴드 세트, 2, 시작\n",
      "\t 폴드 세트, 3, 시작\n",
      "\t 폴드 세트, 4, 시작\n",
      "\t 폴드 세트, 5, 시작\n",
      "\t 폴드 세트, 6, 시작\n",
      "AdaBoostClassifier 모델 시작\n",
      "\t 폴드 세트, 0, 시작\n",
      "\t 폴드 세트, 1, 시작\n",
      "\t 폴드 세트, 2, 시작\n",
      "\t 폴드 세트, 3, 시작\n",
      "\t 폴드 세트, 4, 시작\n",
      "\t 폴드 세트, 5, 시작\n",
      "\t 폴드 세트, 6, 시작\n"
     ]
    }
   ],
   "source": [
    "knn_train, knn_test = get_stacking_base_datasets(knn_clf, X_train, y_train, X_test, 7)\n",
    "rf_train, rf_test = get_stacking_base_datasets(rf_clf, X_train, y_train, X_test, 7)\n",
    "dt_train, dt_test = get_stacking_base_datasets(dt_clf, X_train, y_train, X_test, 7)\n",
    "ada_train, ada_test = get_stacking_base_datasets(ada_clf, X_train, y_train, X_test, 7)"
   ]
  },
  {
   "cell_type": "code",
   "execution_count": 58,
   "metadata": {},
   "outputs": [
    {
     "name": "stdout",
     "output_type": "stream",
     "text": [
      "\n",
      "▶ 원본 학습 피처 데이터 Shape\n",
      "(455, 30)\n",
      "\n",
      "▶ 원본 테스트 피처 데이터\n",
      "(114, 30)\n",
      "\n",
      "▶ 스태킹 학습 피처 데이터\n",
      "(455, 4)\n",
      "\n",
      "▶ 스태킹 테스트 피처 데이터\n",
      "(114, 4)\n",
      "\n"
     ]
    }
   ],
   "source": [
    "Stack_final_X_train = np.concatenate((knn_train, rf_train, dt_train, ada_train), axis = 1)\n",
    "Stack_final_X_test = np.concatenate((knn_test, rf_test, dt_test, ada_test), axis = 1)\n",
    "\n",
    "print(f'''\n",
    "▶ 원본 학습 피처 데이터 Shape\n",
    "{X_train.shape}\n",
    "\n",
    "▶ 원본 테스트 피처 데이터\n",
    "{X_test.shape}\n",
    "\n",
    "▶ 스태킹 학습 피처 데이터\n",
    "{Stack_final_X_train.shape}\n",
    "\n",
    "▶ 스태킹 테스트 피처 데이터\n",
    "{Stack_final_X_test.shape}\n",
    "''')"
   ]
  },
  {
   "cell_type": "code",
   "execution_count": 60,
   "metadata": {},
   "outputs": [
    {
     "name": "stdout",
     "output_type": "stream",
     "text": [
      "\n",
      "▶ 최종 메타 모델의 예측 정확도\n",
      "0.9737\n",
      "\n"
     ]
    }
   ],
   "source": [
    "lr_final.fit(Stack_final_X_train, y_train)\n",
    "stack_final_pred = lr_final.predict(Stack_final_X_test)\n",
    "\n",
    "print(f'''\n",
    "▶ 최종 메타 모델의 예측 정확도\n",
    "{accuracy_score(y_test, stack_final_pred):.4f}\n",
    "''')"
   ]
  }
 ],
 "metadata": {
  "kernelspec": {
   "display_name": "Python (ml_env)",
   "language": "python",
   "name": "ml_env"
  },
  "language_info": {
   "codemirror_mode": {
    "name": "ipython",
    "version": 3
   },
   "file_extension": ".py",
   "mimetype": "text/x-python",
   "name": "python",
   "nbconvert_exporter": "python",
   "pygments_lexer": "ipython3",
   "version": "3.9.21"
  }
 },
 "nbformat": 4,
 "nbformat_minor": 2
}
